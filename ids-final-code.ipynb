{
 "cells": [
  {
   "cell_type": "code",
   "execution_count": null,
   "metadata": {
    "_cell_guid": "b1076dfc-b9ad-4769-8c92-a6c4dae69d19",
    "_uuid": "8f2839f25d086af736a60e9eeb907d3b93b6e0e5",
    "execution": {
     "iopub.execute_input": "2024-12-08T14:39:43.664084Z",
     "iopub.status.busy": "2024-12-08T14:39:43.663611Z",
     "iopub.status.idle": "2024-12-08T14:39:50.683041Z",
     "shell.execute_reply": "2024-12-08T14:39:50.681753Z",
     "shell.execute_reply.started": "2024-12-08T14:39:43.664038Z"
    },
    "trusted": true
   },
   "outputs": [],
   "source": [
    "import numpy as np\n",
    "from PIL import Image\n",
    "import torch,torchvision\n",
    "import torch.nn as nn\n",
    "import torch.nn.functional as f\n",
    "import torch.optim as optim\n",
    "import torchvision.transforms as transforms\n",
    "from torchvision import datasets\n",
    "from torch.utils.data import DataLoader\n",
    "import matplotlib.pyplot as plt\n",
    "from sklearn.metrics import accuracy_score, precision_score, recall_score, f1_score\n",
    "from sklearn.metrics import confusion_matrix\n",
    "import seaborn as sns\n",
    "import matplotlib.pyplot as plt\n",
    "#https://www.kaggle.com/datasets/steph039/primate-species"
   ]
  },
  {
   "cell_type": "code",
   "execution_count": null,
   "metadata": {
    "execution": {
     "iopub.execute_input": "2024-12-08T14:43:41.607680Z",
     "iopub.status.busy": "2024-12-08T14:43:41.607249Z",
     "iopub.status.idle": "2024-12-08T14:43:41.613696Z",
     "shell.execute_reply": "2024-12-08T14:43:41.612293Z",
     "shell.execute_reply.started": "2024-12-08T14:43:41.607613Z"
    },
    "trusted": true
   },
   "outputs": [],
   "source": [
    "transform = transforms.Compose(\n",
    "    [transforms.ToTensor(),\n",
    "     transforms.Normalize((0.5, 0.5, 0.5), (0.5, 0.5, 0.5))])"
   ]
  },
  {
   "cell_type": "code",
   "execution_count": null,
   "metadata": {
    "execution": {
     "iopub.execute_input": "2024-12-08T14:43:52.544693Z",
     "iopub.status.busy": "2024-12-08T14:43:52.544266Z",
     "iopub.status.idle": "2024-12-08T14:43:54.527814Z",
     "shell.execute_reply": "2024-12-08T14:43:54.526310Z",
     "shell.execute_reply.started": "2024-12-08T14:43:52.544621Z"
    },
    "trusted": true
   },
   "outputs": [],
   "source": [
    "train_dataset = datasets.ImageFolder(root=r\"/kaggle/input/primate-species/dataset/train/\", transform=transform)\n",
    "test_dataset = datasets.ImageFolder(root=r\"/kaggle/input/primate-species/dataset/test/\", transform=transform)\n",
    "\n",
    "train_loader = DataLoader(train_dataset, batch_size=32, shuffle=True, num_workers = 2)\n",
    "test_loader = DataLoader(test_dataset, batch_size=32, shuffle=True,num_workers = 2)"
   ]
  },
  {
   "cell_type": "code",
   "execution_count": null,
   "metadata": {
    "trusted": true
   },
   "outputs": [],
   "source": [
    "classes = ['Bald Uakari','Gorilla', 'Mandrill', 'Golden Lion Tamarin', 'Emperor Tamarin', 'Silvery Marmoset', 'Proboscis Monkey']"
   ]
  },
  {
   "cell_type": "code",
   "execution_count": null,
   "metadata": {
    "trusted": true
   },
   "outputs": [],
   "source": [
    "def show_image(img, label, classes):\n",
    "    img = img.permute(1, 2, 0).cpu().numpy()\n",
    "    plt.imshow(img)\n",
    "    plt.title(f\"Label: {classes[label]} ({label})\")\n",
    "    plt.show()\n",
    "\n",
    "image, label = train_dataset[300]\n",
    "classes = train_dataset.classes    \n",
    "show_image(image, label, classes)"
   ]
  },
  {
   "cell_type": "code",
   "execution_count": null,
   "metadata": {
    "trusted": true
   },
   "outputs": [],
   "source": [
    "class NeuralNet(nn.Module):\n",
    "    def __init__(self):\n",
    "        super().__init__()\n",
    "    \n",
    "        self.conv1 = nn.Conv2d(3, 32, kernel_size=3, padding=1)\n",
    "        self.pool = nn.MaxPool2d(kernel_size=2, stride=2)\n",
    "        self.conv2 = nn.Conv2d(32, 64, kernel_size=3, padding=1)\n",
    "        self.fc1 = nn.Linear(64 * 56 * 56, 120)\n",
    "        self.fc2 = nn.Linear(120,84)\n",
    "        self.fc3 = nn.Linear(84, 7) #output: 7 classes\n",
    "\n",
    "    def forward(self, x):\n",
    "        x = self.pool(f.relu(self.conv1(x)))\n",
    "        x = self.pool(f.relu(self.conv2(x)))\n",
    "        x = torch.flatten(x, 1) \n",
    "        x = f.relu(self.fc1(x))  \n",
    "        x = f.relu(self.fc2(x))  \n",
    "        x = self.fc3(x) \n",
    "        return x"
   ]
  },
  {
   "cell_type": "code",
   "execution_count": null,
   "metadata": {
    "trusted": true
   },
   "outputs": [],
   "source": [
    "net = NeuralNet()\n",
    "loss_function = nn.CrossEntropyLoss()\n",
    "optimizer = optim.Adam(net.parameters(),lr=0.001)"
   ]
  },
  {
   "cell_type": "code",
   "execution_count": null,
   "metadata": {
    "trusted": true
   },
   "outputs": [],
   "source": [
    "def train(net, train_loader, test_loader, loss_function, optimizer, epochs):\n",
    "    for epoch in range(epochs):\n",
    "        print(f'\\nTraining epoch {epoch + 1}/{epochs}')\n",
    "        running_loss = 0.0\n",
    "        net.train()  \n",
    "\n",
    "        # Training loop\n",
    "        for i, data in enumerate(train_loader):\n",
    "            inputs, labels = data\n",
    "            optimizer.zero_grad()\n",
    "            outputs = net(inputs)  \n",
    "            loss = loss_function(outputs, labels)  \n",
    "            loss.backward()\n",
    "            optimizer.step()  \n",
    "            running_loss += loss.item()  \n",
    "        avg_loss = running_loss / len(train_loader)\n",
    "        print(f'Loss: {avg_loss:.4f}')  \n",
    "        evaluate(net, test_loader, loss_function)\n",
    "        \n",
    "def evaluate(net, test_loader, loss_function):\n",
    "    correct = 0\n",
    "    total = 0\n",
    "    total_loss = 0.0\n",
    "    net.eval() \n",
    "\n",
    "    with torch.no_grad():  \n",
    "        for data in test_loader:\n",
    "            images, labels = data\n",
    "            outputs = net(images) \n",
    "            loss = loss_function(outputs, labels) \n",
    "            total_loss += loss.item()\n",
    "            _, predicted = torch.max(outputs, 1)  # Get predicted class\n",
    "            correct += (predicted == labels).sum().item()  # Count correct predictions\n",
    "            total += labels.size(0)\n",
    "\n",
    "    accuracy = (correct / total) * 100\n",
    "    avg_loss = total_loss / len(test_loader)\n",
    "    print(f'Validation Loss: {avg_loss:.4f}, Accuracy: {accuracy:.2f}%')\n",
    "\n",
    "train(net, train_loader, test_loader, loss_function, optimizer,15)"
   ]
  },
  {
   "cell_type": "code",
   "execution_count": null,
   "metadata": {
    "trusted": true
   },
   "outputs": [],
   "source": [
    "torch.save(net.state_dict(), 'model.pth')"
   ]
  },
  {
   "cell_type": "code",
   "execution_count": null,
   "metadata": {
    "trusted": true
   },
   "outputs": [],
   "source": [
    "net = NeuralNet()\n",
    "net.load_state_dict(torch.load('model.pth'))"
   ]
  },
  {
   "cell_type": "code",
   "execution_count": null,
   "metadata": {
    "trusted": true
   },
   "outputs": [],
   "source": [
    "net.eval()\n",
    "\n",
    "transform = transforms.Compose([\n",
    "    transforms.ToTensor(), \n",
    "    transforms.Normalize((0.5, 0.5, 0.5), (0.5, 0.5, 0.5))])\n",
    "\n",
    "img_path = r''\n",
    "image = Image.open(img_path)\n",
    "image_tensor = transform(image).unsqueeze(0)\n",
    "\n",
    "with torch.no_grad():\n",
    "    output = net(image_tensor)\n",
    "    probabilities = torch.nn.functional.softmax(output, dim=1)\n",
    "    _, predicted_class = torch.max(probabilities, 1)\n",
    "    classes = ['Bald Uakari', 'Gorilla', 'Mandrill', 'Golden Lion Tamarin', 'Emperor Tamarin', 'Silvery Marmoset', 'Proboscis Monkey']\n",
    "    classes.sort()\n",
    "    predicted_label = classes[predicted_class.item()]\n",
    "    print(f\"Predicted Label: {predicted_label}\")\n",
    "    plt.imshow(image)\n",
    "    plt.show()"
   ]
  },
  {
   "cell_type": "code",
   "execution_count": null,
   "metadata": {
    "execution": {
     "iopub.execute_input": "2024-12-08T14:43:20.599901Z",
     "iopub.status.busy": "2024-12-08T14:43:20.599336Z",
     "iopub.status.idle": "2024-12-08T14:43:20.978332Z",
     "shell.execute_reply": "2024-12-08T14:43:20.976856Z",
     "shell.execute_reply.started": "2024-12-08T14:43:20.599785Z"
    },
    "trusted": true
   },
   "outputs": [],
   "source": [
    "val_dataset = datasets.ImageFolder(root=r\"/kaggle/input/primate-species/dataset/val/\", transform=transform)\n",
    "val_loader = DataLoader(val_dataset, batch_size=64, shuffle=False)  \n",
    "\n",
    "predictions = []\n",
    "true_labels = []\n",
    "\n",
    "with torch.no_grad():\n",
    "    for inputs, labels in val_loader:\n",
    "        outputs = net(inputs) \n",
    "        _, predicted = torch.max(outputs, 1) \n",
    "        predictions.extend(predicted.numpy()) \n",
    "        true_labels.extend(labels.numpy())  \n",
    "predictions = np.array(predictions)\n",
    "true_labels = np.array(true_labels)\n",
    "\n",
    "# Compute metrics\n",
    "accuracy = accuracy_score(true_labels, predictions)\n",
    "precision = precision_score(true_labels, predictions, average='weighted') \n",
    "recall = recall_score(true_labels, predictions, average='weighted')\n",
    "f1 = f1_score(true_labels, predictions, average='weighted')\n",
    "\n",
    "print(f'Accuracy: {accuracy:.4f}')\n",
    "print(f'Precision: {precision:.4f}')\n",
    "print(f'Recall: {recall:.4f}')\n",
    "print(f'F1 Score: {f1:.4f}')\n",
    "\n",
    "# Compute confusion matrix\n",
    "cm = confusion_matrix(true_labels, predictions)\n",
    "\n",
    "# Plot confusion matrix\n",
    "sns.heatmap(cm, annot=True, fmt='d', cmap='Blues', xticklabels=classes, yticklabels=classes)\n",
    "plt.xlabel('Predicted')\n",
    "plt.ylabel('True')\n",
    "plt.title('Confusion Matrix')\n",
    "plt.show()"
   ]
  }
 ],
 "metadata": {
  "kaggle": {
   "accelerator": "none",
   "dataSources": [
    {
     "datasetId": 6257984,
     "sourceId": 10139560,
     "sourceType": "datasetVersion"
    }
   ],
   "dockerImageVersionId": 30804,
   "isGpuEnabled": false,
   "isInternetEnabled": false,
   "language": "python",
   "sourceType": "notebook"
  },
  "kernelspec": {
   "display_name": "Python 3",
   "language": "python",
   "name": "python3"
  },
  "language_info": {
   "codemirror_mode": {
    "name": "ipython",
    "version": 3
   },
   "file_extension": ".py",
   "mimetype": "text/x-python",
   "name": "python",
   "nbconvert_exporter": "python",
   "pygments_lexer": "ipython3",
   "version": "3.10.14"
  }
 },
 "nbformat": 4,
 "nbformat_minor": 4
}
